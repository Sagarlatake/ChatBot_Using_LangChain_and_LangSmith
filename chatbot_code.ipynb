{
 "cells": [
  {
   "cell_type": "code",
   "id": "initial_id",
   "metadata": {
    "collapsed": true,
    "ExecuteTime": {
     "end_time": "2025-10-14T23:58:07.359607Z",
     "start_time": "2025-10-14T23:58:07.350279Z"
    }
   },
   "source": "# install Requirements.txt",
   "outputs": [],
   "execution_count": 1
  },
  {
   "metadata": {
    "ExecuteTime": {
     "end_time": "2025-10-15T00:01:58.031570Z",
     "start_time": "2025-10-15T00:01:58.007642Z"
    }
   },
   "cell_type": "code",
   "source": [
    "import getpass\n",
    "import os\n",
    "from dotenv import load_dotenv"
   ],
   "id": "7f6a0381b553e292",
   "outputs": [],
   "execution_count": 3
  },
  {
   "metadata": {
    "ExecuteTime": {
     "end_time": "2025-10-15T00:04:30.918493Z",
     "start_time": "2025-10-15T00:04:30.906567Z"
    }
   },
   "cell_type": "code",
   "source": [
    "# load env and keys for langsmith and groq\n",
    "# Prior to this you are expected to visit langsmith and groq websites and get your API keys ready\n",
    "load_dotenv()\n",
    "os.environ[\"LANGSMITH_TRACING\"] = \"true\"\n",
    "if \"LANGSMITH_API_KEY\" not in os.environ:\n",
    "    os.environ[\"LANGSMITH_API_KEY\"] = getpass.getpass(\n",
    "        prompt=\"Enter your LangSmith API key (optional): \"\n",
    "    )\n",
    "if \"LANGSMITH_PROJECT\" not in os.environ:\n",
    "    os.environ[\"LANGSMITH_PROJECT\"] = getpass.getpass(\n",
    "        prompt='Enter your LangSmith Project Name (default = \"default\"): '\n",
    "    )\n",
    "    if not os.environ.get(\"LANGSMITH_PROJECT\"):\n",
    "        os.environ[\"LANGSMITH_PROJECT\"] = \"default\"\n",
    "\n",
    "\n",
    "\n",
    "if not os.environ.get(\"GROQ_API_KEY\"):\n",
    "  os.environ[\"GROQ_API_KEY\"] = getpass.getpass(\"Enter API key for Groq: \")\n"
   ],
   "id": "600e6941c2b32c8a",
   "outputs": [],
   "execution_count": 6
  },
  {
   "metadata": {
    "ExecuteTime": {
     "end_time": "2025-10-15T00:05:46.756328Z",
     "start_time": "2025-10-15T00:05:45.729838Z"
    }
   },
   "cell_type": "code",
   "source": "from langchain.chat_models import init_chat_model",
   "id": "ed25f5bde1630651",
   "outputs": [],
   "execution_count": 7
  },
  {
   "metadata": {
    "ExecuteTime": {
     "end_time": "2025-10-15T00:06:46.155352Z",
     "start_time": "2025-10-15T00:06:45.096189Z"
    }
   },
   "cell_type": "code",
   "source": [
    "# make sure you are accessing a valid model, feel free to change the model name\n",
    "model = init_chat_model(\"Llama-3.3-70B-Versatile\", model_provider=\"groq\")"
   ],
   "id": "d7b55966d7173f36",
   "outputs": [],
   "execution_count": 8
  },
  {
   "metadata": {
    "ExecuteTime": {
     "end_time": "2025-10-15T00:08:03.485807Z",
     "start_time": "2025-10-15T00:08:03.481373Z"
    }
   },
   "cell_type": "code",
   "source": "from langchain_core.messages import HumanMessage",
   "id": "47662a3ad5f93d9c",
   "outputs": [],
   "execution_count": 9
  },
  {
   "metadata": {
    "ExecuteTime": {
     "end_time": "2025-10-15T00:08:44.546931Z",
     "start_time": "2025-10-15T00:08:44.355741Z"
    }
   },
   "cell_type": "code",
   "source": "model.invoke([HumanMessage(content=\"Hi! I'm sagar\")])",
   "id": "ad585aca27c9fcf0",
   "outputs": [
    {
     "data": {
      "text/plain": [
       "AIMessage(content=\"Hi Sagar! It's nice to meet you. Is there something I can help you with or would you like to chat?\", additional_kwargs={}, response_metadata={'token_usage': {'completion_tokens': 27, 'prompt_tokens': 41, 'total_tokens': 68, 'completion_time': 0.048449265, 'prompt_time': 0.001911595, 'queue_time': 0.049236365, 'total_time': 0.05036086}, 'model_name': 'Llama-3.3-70B-Versatile', 'system_fingerprint': 'fp_155ab82e98', 'service_tier': 'on_demand', 'finish_reason': 'stop', 'logprobs': None}, id='run--9df977d3-c448-48d5-949d-7b8895dc7368-0', usage_metadata={'input_tokens': 41, 'output_tokens': 27, 'total_tokens': 68})"
      ]
     },
     "execution_count": 11,
     "metadata": {},
     "output_type": "execute_result"
    }
   ],
   "execution_count": 11
  },
  {
   "metadata": {
    "ExecuteTime": {
     "end_time": "2025-10-15T00:10:06.271624Z",
     "start_time": "2025-10-15T00:10:05.984762Z"
    }
   },
   "cell_type": "code",
   "source": "model.invoke([HumanMessage('what is my name?')])",
   "id": "90c9584bc647caad",
   "outputs": [
    {
     "data": {
      "text/plain": [
       "AIMessage(content=\"I don't have any information about your name. I'm a large language model, I don't have the ability to know your personal details or identity. Our conversation just started, and I don't retain any information about individual users. If you'd like to share your name with me, I'd be happy to chat with you!\", additional_kwargs={}, response_metadata={'token_usage': {'completion_tokens': 68, 'prompt_tokens': 40, 'total_tokens': 108, 'completion_time': 0.134597567, 'prompt_time': 0.001963172, 'queue_time': 0.048522398, 'total_time': 0.136560739}, 'model_name': 'Llama-3.3-70B-Versatile', 'system_fingerprint': 'fp_34d416ee39', 'service_tier': 'on_demand', 'finish_reason': 'stop', 'logprobs': None}, id='run--72bc75fc-05da-4d77-b300-67c16d1e8d3a-0', usage_metadata={'input_tokens': 40, 'output_tokens': 68, 'total_tokens': 108})"
      ]
     },
     "execution_count": 12,
     "metadata": {},
     "output_type": "execute_result"
    }
   ],
   "execution_count": 12
  },
  {
   "metadata": {
    "ExecuteTime": {
     "end_time": "2025-10-15T00:13:23.465685Z",
     "start_time": "2025-10-15T00:13:23.461327Z"
    }
   },
   "cell_type": "code",
   "source": "# models response is not based on the previous conversation, as it is not taking previous conversation as input we will now pass entire conversation as input to model",
   "id": "8211687f1d8f775d",
   "outputs": [],
   "execution_count": 14
  },
  {
   "metadata": {
    "ExecuteTime": {
     "end_time": "2025-10-15T00:13:44.642670Z",
     "start_time": "2025-10-15T00:13:44.638530Z"
    }
   },
   "cell_type": "code",
   "source": "from langchain_core.messages import AIMessage",
   "id": "2123567a54fd3a9a",
   "outputs": [],
   "execution_count": 15
  },
  {
   "metadata": {
    "ExecuteTime": {
     "end_time": "2025-10-15T00:17:08.366047Z",
     "start_time": "2025-10-15T00:17:08.185936Z"
    }
   },
   "cell_type": "code",
   "source": [
    "model.invoke(\n",
    "    [\n",
    "        HumanMessage(\"Hi, My name is Sagar\"),\n",
    "        AIMessage(\"Hello Sagar! How can I assist today?\"),\n",
    "        HumanMessage(\"What is my name?\")\n",
    "    ]\n",
    ")"
   ],
   "id": "6a3b0f6218b8940e",
   "outputs": [
    {
     "data": {
      "text/plain": [
       "AIMessage(content='Your name is Sagar.', additional_kwargs={}, response_metadata={'token_usage': {'completion_tokens': 7, 'prompt_tokens': 67, 'total_tokens': 74, 'completion_time': 0.019491138, 'prompt_time': 0.003237386, 'queue_time': 0.049232463, 'total_time': 0.022728524}, 'model_name': 'Llama-3.3-70B-Versatile', 'system_fingerprint': 'fp_9e1e8f8435', 'service_tier': 'on_demand', 'finish_reason': 'stop', 'logprobs': None}, id='run--2a686463-6a02-4bda-8789-aa914d0b2e31-0', usage_metadata={'input_tokens': 67, 'output_tokens': 7, 'total_tokens': 74})"
      ]
     },
     "execution_count": 17,
     "metadata": {},
     "output_type": "execute_result"
    }
   ],
   "execution_count": 17
  },
  {
   "metadata": {},
   "cell_type": "markdown",
   "source": "Message persistence",
   "id": "9653e53654124705"
  },
  {
   "metadata": {
    "ExecuteTime": {
     "end_time": "2025-10-15T00:30:21.800476Z",
     "start_time": "2025-10-15T00:30:21.544242Z"
    }
   },
   "cell_type": "code",
   "source": [
    "from langgraph.checkpoint.memory import MemorySaver\n",
    "from langgraph.graph import START, MessagesState, StateGraph"
   ],
   "id": "209043d40be0b759",
   "outputs": [],
   "execution_count": 19
  },
  {
   "metadata": {
    "ExecuteTime": {
     "end_time": "2025-10-15T00:31:36.314692Z",
     "start_time": "2025-10-15T00:31:36.298221Z"
    }
   },
   "cell_type": "code",
   "source": [
    "# define new workflow\n",
    "workflow = StateGraph(state_schema=MessagesState)"
   ],
   "id": "129217ab5758f89e",
   "outputs": [],
   "execution_count": 20
  },
  {
   "metadata": {
    "ExecuteTime": {
     "end_time": "2025-10-15T00:33:38.611831Z",
     "start_time": "2025-10-15T00:33:38.578815Z"
    }
   },
   "cell_type": "code",
   "source": [
    "# define function to call model\n",
    "def model_call(state: MessagesState):\n",
    "    resposne = model.invoke(state['messages'])\n",
    "    return {'messages': resposne}"
   ],
   "id": "fe7a6483c8deaefd",
   "outputs": [],
   "execution_count": 21
  },
  {
   "metadata": {
    "ExecuteTime": {
     "end_time": "2025-10-15T00:35:57.915538Z",
     "start_time": "2025-10-15T00:35:57.895874Z"
    }
   },
   "cell_type": "code",
   "source": [
    "# define the nodes in graph\n",
    "workflow.add_edge(START, \"model\")\n",
    "workflow.add_node(\"model\", model_call)"
   ],
   "id": "2e60a34f3bff528e",
   "outputs": [
    {
     "data": {
      "text/plain": [
       "<langgraph.graph.state.StateGraph at 0x1d22cca16a0>"
      ]
     },
     "execution_count": 23,
     "metadata": {},
     "output_type": "execute_result"
    }
   ],
   "execution_count": 23
  },
  {
   "metadata": {
    "ExecuteTime": {
     "end_time": "2025-10-15T00:37:43.515649Z",
     "start_time": "2025-10-15T00:37:43.502493Z"
    }
   },
   "cell_type": "code",
   "source": [
    "# add memory\n",
    "memory = MemorySaver()\n",
    "app = workflow.compile(checkpointer=memory)"
   ],
   "id": "f659ae9196522ff",
   "outputs": [],
   "execution_count": 24
  },
  {
   "metadata": {
    "ExecuteTime": {
     "end_time": "2025-10-15T00:40:39.909383Z",
     "start_time": "2025-10-15T00:40:39.903858Z"
    }
   },
   "cell_type": "code",
   "source": [
    "# create configurable for passing it to models, It supports multiple conversations threads with single application used by multiple users\n",
    "\n",
    "config = {\"configurable\":{\"thread_id\":\"abc123\"}}"
   ],
   "id": "6ef9b3a1f64a0b33",
   "outputs": [],
   "execution_count": 27
  },
  {
   "metadata": {
    "ExecuteTime": {
     "end_time": "2025-10-15T00:43:40.429660Z",
     "start_time": "2025-10-15T00:43:39.956179Z"
    }
   },
   "cell_type": "code",
   "source": [
    "input_message = [HumanMessage('Hi, My name is Sagar')]\n",
    "output = app.invoke({\"messages\": input_message}, config)\n",
    "print(output)"
   ],
   "id": "b908dcd8b38e0f12",
   "outputs": [
    {
     "name": "stdout",
     "output_type": "stream",
     "text": [
      "{'messages': [HumanMessage(content='Hi, My name is Sagar', additional_kwargs={}, response_metadata={}, id='27b3c1bf-a974-47a8-a76f-14ffc8aac93c'), AIMessage(content=\"Hello Sagar! It's nice to meet you. Is there something I can help you with or would you like to chat?\", additional_kwargs={}, response_metadata={'token_usage': {'completion_tokens': 27, 'prompt_tokens': 42, 'total_tokens': 69, 'completion_time': 0.040832778, 'prompt_time': 0.001959306, 'queue_time': 0.04871813, 'total_time': 0.042792084}, 'model_name': 'Llama-3.3-70B-Versatile', 'system_fingerprint': 'fp_9e1e8f8435', 'service_tier': 'on_demand', 'finish_reason': 'stop', 'logprobs': None}, id='run--857bd558-af55-4e1d-a087-5044a1efd2e4-0', usage_metadata={'input_tokens': 42, 'output_tokens': 27, 'total_tokens': 69})]}\n"
     ]
    }
   ],
   "execution_count": 28
  },
  {
   "metadata": {
    "ExecuteTime": {
     "end_time": "2025-10-15T00:45:21.928636Z",
     "start_time": "2025-10-15T00:45:21.920413Z"
    }
   },
   "cell_type": "code",
   "source": "output['messages'][-1].pretty_print()",
   "id": "8d387e6955c5aae3",
   "outputs": [
    {
     "name": "stdout",
     "output_type": "stream",
     "text": [
      "==================================\u001B[1m Ai Message \u001B[0m==================================\n",
      "\n",
      "Hello Sagar! It's nice to meet you. Is there something I can help you with or would you like to chat?\n"
     ]
    }
   ],
   "execution_count": 30
  },
  {
   "metadata": {
    "ExecuteTime": {
     "end_time": "2025-10-15T00:51:22.284285Z",
     "start_time": "2025-10-15T00:51:21.986038Z"
    }
   },
   "cell_type": "code",
   "source": [
    "input_message = [HumanMessage('what is my name?')]\n",
    "output = app.invoke({\"messages\": input_message}, config)\n",
    "print(output['messages'][-1].pretty_print())"
   ],
   "id": "5847093ecaaf63d0",
   "outputs": [
    {
     "name": "stdout",
     "output_type": "stream",
     "text": [
      "==================================\u001B[1m Ai Message \u001B[0m==================================\n",
      "\n",
      "Your name is still Sagar. You told me that when we started chatting.\n",
      "None\n"
     ]
    }
   ],
   "execution_count": 32
  },
  {
   "metadata": {
    "ExecuteTime": {
     "end_time": "2025-10-15T00:52:19.558871Z",
     "start_time": "2025-10-15T00:52:19.552898Z"
    }
   },
   "cell_type": "code",
   "source": "# out models now started remembering things, now if we change config it will start a fresh chat",
   "id": "628bc07f6f6768c0",
   "outputs": [],
   "execution_count": 33
  },
  {
   "metadata": {
    "ExecuteTime": {
     "end_time": "2025-10-15T00:54:30.892545Z",
     "start_time": "2025-10-15T00:54:30.500696Z"
    }
   },
   "cell_type": "code",
   "source": [
    "config = {\"configurable\": {\"thread_id\":\"abc12345\"}}\n",
    "input_message = [HumanMessage('what is my name?')]\n",
    "output = app.invoke({\"messages\": input_message}, config)\n",
    "print(output['messages'][-1].pretty_print())"
   ],
   "id": "9e501ab4c632fd26",
   "outputs": [
    {
     "name": "stdout",
     "output_type": "stream",
     "text": [
      "==================================\u001B[1m Ai Message \u001B[0m==================================\n",
      "\n",
      "I don't know your name. I'm a large language model, I don't have any information about you, including your name. I'm here to help answer your questions and provide assistance, but I don't have any personal knowledge about you. Would you like to tell me your name?\n",
      "None\n"
     ]
    }
   ],
   "execution_count": 35
  },
  {
   "metadata": {
    "ExecuteTime": {
     "end_time": "2025-10-15T00:57:39.334314Z",
     "start_time": "2025-10-15T00:57:39.135532Z"
    }
   },
   "cell_type": "code",
   "source": [
    "# let me check if model remembers out conversation with previous thread id\n",
    "config = {\"configurable\": {\"thread_id\":\"abc123\"}}\n",
    "input_message = [HumanMessage('Do you remember my name?')]\n",
    "output = app.invoke({\"messages\": input_message}, config)\n",
    "print(output['messages'][-1].pretty_print())"
   ],
   "id": "3a96afb7c5ea7136",
   "outputs": [
    {
     "name": "stdout",
     "output_type": "stream",
     "text": [
      "==================================\u001B[1m Ai Message \u001B[0m==================================\n",
      "\n",
      "Yes, I remember your name. You're Sagar.\n",
      "None\n"
     ]
    }
   ],
   "execution_count": 38
  },
  {
   "metadata": {},
   "cell_type": "code",
   "outputs": [],
   "execution_count": null,
   "source": "",
   "id": "27cf5194ec167547"
  }
 ],
 "metadata": {
  "kernelspec": {
   "display_name": "Python 3",
   "language": "python",
   "name": "python3"
  },
  "language_info": {
   "codemirror_mode": {
    "name": "ipython",
    "version": 2
   },
   "file_extension": ".py",
   "mimetype": "text/x-python",
   "name": "python",
   "nbconvert_exporter": "python",
   "pygments_lexer": "ipython2",
   "version": "2.7.6"
  }
 },
 "nbformat": 4,
 "nbformat_minor": 5
}
