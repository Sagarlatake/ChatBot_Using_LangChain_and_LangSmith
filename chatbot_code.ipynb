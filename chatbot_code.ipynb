{
 "cells": [
  {
   "cell_type": "code",
   "id": "initial_id",
   "metadata": {
    "collapsed": true,
    "ExecuteTime": {
     "end_time": "2025-10-14T23:58:07.359607Z",
     "start_time": "2025-10-14T23:58:07.350279Z"
    }
   },
   "source": "# install Requirements.txt",
   "outputs": [],
   "execution_count": 1
  },
  {
   "metadata": {
    "ExecuteTime": {
     "end_time": "2025-10-15T00:01:58.031570Z",
     "start_time": "2025-10-15T00:01:58.007642Z"
    }
   },
   "cell_type": "code",
   "source": [
    "import getpass\n",
    "import os\n",
    "from dotenv import load_dotenv"
   ],
   "id": "7f6a0381b553e292",
   "outputs": [],
   "execution_count": 3
  },
  {
   "metadata": {
    "ExecuteTime": {
     "end_time": "2025-10-15T00:04:30.918493Z",
     "start_time": "2025-10-15T00:04:30.906567Z"
    }
   },
   "cell_type": "code",
   "source": [
    "# load env and keys for langsmith and groq\n",
    "# Prior to this you are expected to visit langsmith and groq websites and get your API keys ready\n",
    "load_dotenv()\n",
    "os.environ[\"LANGSMITH_TRACING\"] = \"true\"\n",
    "if \"LANGSMITH_API_KEY\" not in os.environ:\n",
    "    os.environ[\"LANGSMITH_API_KEY\"] = getpass.getpass(\n",
    "        prompt=\"Enter your LangSmith API key (optional): \"\n",
    "    )\n",
    "if \"LANGSMITH_PROJECT\" not in os.environ:\n",
    "    os.environ[\"LANGSMITH_PROJECT\"] = getpass.getpass(\n",
    "        prompt='Enter your LangSmith Project Name (default = \"default\"): '\n",
    "    )\n",
    "    if not os.environ.get(\"LANGSMITH_PROJECT\"):\n",
    "        os.environ[\"LANGSMITH_PROJECT\"] = \"default\"\n",
    "\n",
    "\n",
    "\n",
    "if not os.environ.get(\"GROQ_API_KEY\"):\n",
    "  os.environ[\"GROQ_API_KEY\"] = getpass.getpass(\"Enter API key for Groq: \")\n"
   ],
   "id": "600e6941c2b32c8a",
   "outputs": [],
   "execution_count": 6
  },
  {
   "metadata": {
    "ExecuteTime": {
     "end_time": "2025-10-15T00:05:46.756328Z",
     "start_time": "2025-10-15T00:05:45.729838Z"
    }
   },
   "cell_type": "code",
   "source": "from langchain.chat_models import init_chat_model",
   "id": "ed25f5bde1630651",
   "outputs": [],
   "execution_count": 7
  },
  {
   "metadata": {
    "ExecuteTime": {
     "end_time": "2025-10-15T00:06:46.155352Z",
     "start_time": "2025-10-15T00:06:45.096189Z"
    }
   },
   "cell_type": "code",
   "source": [
    "# make sure you are accessing a valid model, feel free to change the model name\n",
    "model = init_chat_model(\"Llama-3.3-70B-Versatile\", model_provider=\"groq\")"
   ],
   "id": "d7b55966d7173f36",
   "outputs": [],
   "execution_count": 8
  },
  {
   "metadata": {
    "ExecuteTime": {
     "end_time": "2025-10-15T00:08:03.485807Z",
     "start_time": "2025-10-15T00:08:03.481373Z"
    }
   },
   "cell_type": "code",
   "source": "from langchain_core.messages import HumanMessage",
   "id": "47662a3ad5f93d9c",
   "outputs": [],
   "execution_count": 9
  },
  {
   "metadata": {
    "ExecuteTime": {
     "end_time": "2025-10-15T00:08:44.546931Z",
     "start_time": "2025-10-15T00:08:44.355741Z"
    }
   },
   "cell_type": "code",
   "source": "model.invoke([HumanMessage(content=\"Hi! I'm sagar\")])",
   "id": "ad585aca27c9fcf0",
   "outputs": [
    {
     "data": {
      "text/plain": [
       "AIMessage(content=\"Hi Sagar! It's nice to meet you. Is there something I can help you with or would you like to chat?\", additional_kwargs={}, response_metadata={'token_usage': {'completion_tokens': 27, 'prompt_tokens': 41, 'total_tokens': 68, 'completion_time': 0.048449265, 'prompt_time': 0.001911595, 'queue_time': 0.049236365, 'total_time': 0.05036086}, 'model_name': 'Llama-3.3-70B-Versatile', 'system_fingerprint': 'fp_155ab82e98', 'service_tier': 'on_demand', 'finish_reason': 'stop', 'logprobs': None}, id='run--9df977d3-c448-48d5-949d-7b8895dc7368-0', usage_metadata={'input_tokens': 41, 'output_tokens': 27, 'total_tokens': 68})"
      ]
     },
     "execution_count": 11,
     "metadata": {},
     "output_type": "execute_result"
    }
   ],
   "execution_count": 11
  },
  {
   "metadata": {
    "ExecuteTime": {
     "end_time": "2025-10-15T00:10:06.271624Z",
     "start_time": "2025-10-15T00:10:05.984762Z"
    }
   },
   "cell_type": "code",
   "source": "model.invoke([HumanMessage('what is my name?')])",
   "id": "90c9584bc647caad",
   "outputs": [
    {
     "data": {
      "text/plain": [
       "AIMessage(content=\"I don't have any information about your name. I'm a large language model, I don't have the ability to know your personal details or identity. Our conversation just started, and I don't retain any information about individual users. If you'd like to share your name with me, I'd be happy to chat with you!\", additional_kwargs={}, response_metadata={'token_usage': {'completion_tokens': 68, 'prompt_tokens': 40, 'total_tokens': 108, 'completion_time': 0.134597567, 'prompt_time': 0.001963172, 'queue_time': 0.048522398, 'total_time': 0.136560739}, 'model_name': 'Llama-3.3-70B-Versatile', 'system_fingerprint': 'fp_34d416ee39', 'service_tier': 'on_demand', 'finish_reason': 'stop', 'logprobs': None}, id='run--72bc75fc-05da-4d77-b300-67c16d1e8d3a-0', usage_metadata={'input_tokens': 40, 'output_tokens': 68, 'total_tokens': 108})"
      ]
     },
     "execution_count": 12,
     "metadata": {},
     "output_type": "execute_result"
    }
   ],
   "execution_count": 12
  },
  {
   "metadata": {
    "ExecuteTime": {
     "end_time": "2025-10-15T00:13:23.465685Z",
     "start_time": "2025-10-15T00:13:23.461327Z"
    }
   },
   "cell_type": "code",
   "source": "# models response is not based on the previous conversation, as it is not taking previous conversation as input we will now pass entire conversation as input to model",
   "id": "8211687f1d8f775d",
   "outputs": [],
   "execution_count": 14
  },
  {
   "metadata": {
    "ExecuteTime": {
     "end_time": "2025-10-15T00:13:44.642670Z",
     "start_time": "2025-10-15T00:13:44.638530Z"
    }
   },
   "cell_type": "code",
   "source": "from langchain_core.messages import AIMessage",
   "id": "2123567a54fd3a9a",
   "outputs": [],
   "execution_count": 15
  },
  {
   "metadata": {
    "ExecuteTime": {
     "end_time": "2025-10-15T00:17:08.366047Z",
     "start_time": "2025-10-15T00:17:08.185936Z"
    }
   },
   "cell_type": "code",
   "source": [
    "model.invoke(\n",
    "    [\n",
    "        HumanMessage(\"Hi, My name is Sagar\"),\n",
    "        AIMessage(\"Hello Sagar! How can I assist today?\"),\n",
    "        HumanMessage(\"What is my name?\")\n",
    "    ]\n",
    ")"
   ],
   "id": "6a3b0f6218b8940e",
   "outputs": [
    {
     "data": {
      "text/plain": [
       "AIMessage(content='Your name is Sagar.', additional_kwargs={}, response_metadata={'token_usage': {'completion_tokens': 7, 'prompt_tokens': 67, 'total_tokens': 74, 'completion_time': 0.019491138, 'prompt_time': 0.003237386, 'queue_time': 0.049232463, 'total_time': 0.022728524}, 'model_name': 'Llama-3.3-70B-Versatile', 'system_fingerprint': 'fp_9e1e8f8435', 'service_tier': 'on_demand', 'finish_reason': 'stop', 'logprobs': None}, id='run--2a686463-6a02-4bda-8789-aa914d0b2e31-0', usage_metadata={'input_tokens': 67, 'output_tokens': 7, 'total_tokens': 74})"
      ]
     },
     "execution_count": 17,
     "metadata": {},
     "output_type": "execute_result"
    }
   ],
   "execution_count": 17
  },
  {
   "metadata": {},
   "cell_type": "markdown",
   "source": "Message persistence",
   "id": "9653e53654124705"
  },
  {
   "metadata": {},
   "cell_type": "code",
   "outputs": [],
   "execution_count": null,
   "source": "",
   "id": "209043d40be0b759"
  }
 ],
 "metadata": {
  "kernelspec": {
   "display_name": "Python 3",
   "language": "python",
   "name": "python3"
  },
  "language_info": {
   "codemirror_mode": {
    "name": "ipython",
    "version": 2
   },
   "file_extension": ".py",
   "mimetype": "text/x-python",
   "name": "python",
   "nbconvert_exporter": "python",
   "pygments_lexer": "ipython2",
   "version": "2.7.6"
  }
 },
 "nbformat": 4,
 "nbformat_minor": 5
}
